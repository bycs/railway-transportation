{
 "cells": [
  {
   "cell_type": "markdown",
   "source": [
    "# Анализ  перевозок по файлам из http://brokenstone.ru/"
   ],
   "metadata": {}
  },
  {
   "cell_type": "code",
   "execution_count": 1,
   "source": [
    "# Импорт необходимых библиотек\r\n",
    "import numpy as np\r\n",
    "import pandas as pd"
   ],
   "outputs": [],
   "metadata": {
    "scrolled": true
   }
  },
  {
   "cell_type": "code",
   "execution_count": 2,
   "source": [
    "# Загрузка файла\r\n",
    "file = \"test_file.xlsx\"\r\n",
    "df = pd.read_excel(file)"
   ],
   "outputs": [],
   "metadata": {}
  },
  {
   "cell_type": "code",
   "execution_count": 3,
   "source": [
    "# Список дорог\r\n",
    "railways = (\r\n",
    "    'ВСБ', 'ГОР', 'ДВС', 'ЖДЯ', 'ЗАБ', 'ЗСБ', \r\n",
    "    'КБШ', 'КЛГ', 'КРС', 'МСК', 'ОКТ', 'ПРВ', \r\n",
    "    'СВР', 'СЕВ', 'СКВ', 'ЮВС', 'ЮУР')"
   ],
   "outputs": [],
   "metadata": {}
  },
  {
   "cell_type": "code",
   "execution_count": 4,
   "source": [
    "# Исключения\r\n",
    "place_of_calculation = [\"Перевозки ОАО РЖД\"]\r\n",
    "\r\n",
    "# Фильтры\r\n",
    "type_of_transportation = [\"Внутр. перевозки\"]\r\n",
    "cargo_group = [\"Минерально-строит.\"]\r\n",
    "cargo_OKVED = [\"Разработка карьеров\"]\r\n",
    "type_of_van = [\"Полувагоны\"]\r\n",
    "departure_railways = [\"СКВ\",\"ОКТ\",\"ЮУР\"]"
   ],
   "outputs": [],
   "metadata": {}
  },
  {
   "cell_type": "markdown",
   "source": [
    "**Предобработка данных**"
   ],
   "metadata": {}
  },
  {
   "cell_type": "code",
   "execution_count": 5,
   "source": [
    "# Применение фильтров и исключений\r\n",
    "df = df.loc[df['Вид перевозки'].isin(type_of_transportation)]\r\n",
    "df = df.loc[df['Группа груза'].isin(cargo_group)]\r\n",
    "df = df.loc[df['Груз ОКВЭД'].isin(cargo_OKVED)]\r\n",
    "df = df.loc[df['Род вагона'].isin(type_of_van)]\r\n",
    "df = df.loc[~df['Признак места расчета'].isin(place_of_calculation)]"
   ],
   "outputs": [],
   "metadata": {}
  },
  {
   "cell_type": "code",
   "execution_count": 6,
   "source": [
    "# Преобразование наименований организаций\n",
    "def clearing_organizational_form(dataframe):\n",
    "    dataframe.replace(regex=True, inplace=True, to_replace=r'АО \"ДВ ТРАНСПОРТНАЯ ГРУППА\"   АО \"ДВТГ\"', value=r'ДВТГ')\n",
    "    dataframe.replace(regex=True, inplace=True, to_replace=r'^И.П.', value=r'ИП')\n",
    "    dataframe.replace(regex=True, inplace=True, to_replace=r'  ', value=r' ')\n",
    "    dataframe.replace(regex=True, inplace=True, to_replace=r'(?i)Общество с ограниченной ответственностью', value=r'ООО')\n",
    "    dataframe.replace(regex=True, inplace=True, to_replace=r'(?i)^Акционерное общество', value=r'АО')\n",
    "    dataframe.replace(regex=True, inplace=True, to_replace=r'(?i)Государственное унитарное предприятие', value=r'ГУП')\n",
    "    dataframe.replace(regex=True, inplace=True, to_replace=r'(?i)Открытое акционерное общество', value=r'ОАО')\n",
    "    dataframe.replace(regex=True, inplace=True, to_replace=r'(?i)Закрытое акционерное общество', value=r'ЗАО')\n",
    "    dataframe.replace(regex=True, inplace=True, to_replace=r'(?i)Публичное акционерное общество', value=r'ПАО')\n",
    "    dataframe.replace(regex=True, inplace=True, \n",
    "                      to_replace=r'(?i)(^OOO |^АО |^ООО |^ОАО |^ЗАО |^ОАО|^ООО|^ПАО | ООО$| АО$| ЗАО$| ОАО$| ООО$| ПАО$|[^\\w\\d\\s+-.])', \n",
    "                      value=r'')\n",
    "    dataframe.replace(regex=True, inplace=True, to_replace=r'(?i)ФЕДЕРАЛЬНАЯ ГРУЗОВАЯ КОМПАНИЯ', value=r'ФГК')\n",
    "    dataframe.replace(regex=True, inplace=True, to_replace=r'(?i)Новая перевозочная компания', value=r'НПК')\n",
    "    dataframe.replace(regex=True, inplace=True, to_replace=r'(?i)Холдинговая компания', value=r'ХК')\n",
    "    dataframe.replace(regex=True, inplace=True, to_replace=r'ЭЙ-СИ-РЕЙЛ', value=r'Эй-Си-Рейл')\n",
    "    dataframe.replace(regex=True, inplace=True, to_replace=r'Кузбасстрансцемент', value=r'КузбассТрансЦемент')\n",
    "    dataframe.replace(regex=True, inplace=True, to_replace=r'Новотранс ХК', value=r'ХК Новотранс')\n",
    "    dataframe.replace(regex=True, inplace=True, to_replace=r'ХК НОВОТРАНС', value=r'ХК Новотранс')\n",
    "    dataframe.replace(regex=True, inplace=True, to_replace=r'^\\s', value=r'')\n",
    "\n",
    "clearing_organizational_form(df['Собственник вагона по ЕГРПО'])\n",
    "clearing_organizational_form(df['Арендатор вагона по ГВЦ'])\n",
    "clearing_organizational_form(df['Арендатор по внутреннему справочнику'])\n",
    "clearing_organizational_form(df['Плательщик жд тарифа'])\n",
    "clearing_organizational_form(df['Грузоотправитель наим по ЕГРПО'])\n",
    "clearing_organizational_form(df['Грузополучатель наим по ЕГРПО'])"
   ],
   "outputs": [],
   "metadata": {}
  },
  {
   "cell_type": "code",
   "execution_count": 7,
   "source": [
    "# Владелец вагона (арендатор или собственник)\r\n",
    "df['Арендатор вагона по ГВЦ'].apply(lambda x: x.lower())\r\n",
    "df['Владелец вагона'] = np.where(df['Арендатор вагона по ГВЦ'] == 'вне аренды', df['Собственник вагона по ЕГРПО'], df['Арендатор вагона по ГВЦ'])"
   ],
   "outputs": [],
   "metadata": {}
  },
  {
   "cell_type": "code",
   "execution_count": 8,
   "source": [
    "# Столбцы, которые необходимо оставить\r\n",
    "df_new = df[[\r\n",
    "    'Номер документа', 'Дата оформления', 'Наименование груза', 'Дорога отправления',\r\n",
    "    'Субъект РФ отправления', 'Станция отправления РФ', 'Грузоотправитель наим по ЕГРПО',\r\n",
    "    'Дорога назначения', 'Субъект РФ назначения', 'Станция назначения РФ', 'Грузополучатель наим по ЕГРПО',\r\n",
    "    'Плательщик жд тарифа', 'Ваг*Км (тариф Расстояние)', 'Объем перевозок тонн', 'Провозная плата', \r\n",
    "    'Владелец вагона', 'Номер вагона', 'Модель вагона']].reset_index(drop=True)\r\n",
    "df_new = df_new.loc[df_new['Дорога отправления'].isin(departure_railways)]"
   ],
   "outputs": [],
   "metadata": {}
  },
  {
   "cell_type": "markdown",
   "source": [
    "**Анализ по собственникам вагонов**"
   ],
   "metadata": {}
  },
  {
   "cell_type": "code",
   "execution_count": 9,
   "source": [
    "# Сводная таблица по собственникам вагонов\r\n",
    "vag_pivot_table = df.pivot_table(\r\n",
    "    columns=['Дорога отправления','Дорога назначения'], \r\n",
    "    values='Признак вагонных перевозок', \r\n",
    "    aggfunc=np.sum, \r\n",
    "    index='Собственник вагона по ЕГРПО', \r\n",
    "    fill_value=0)"
   ],
   "outputs": [],
   "metadata": {}
  },
  {
   "cell_type": "code",
   "execution_count": 10,
   "source": [
    "# Топ собственников вагонов по дороге отправления\r\n",
    "def vag_top(departure_railway, count: int = 30):\r\n",
    "    df_railway = df[df['Дорога отправления'] == departure_railway]\r\n",
    "    vag_railway_pivot_table = df_railway.pivot_table(\r\n",
    "        columns=['Дорога назначения'], \r\n",
    "        index='Владелец вагона', \r\n",
    "        values='Объем перевозок тонн', \r\n",
    "        aggfunc=len, \r\n",
    "        fill_value=0, \r\n",
    "        margins=True)\r\n",
    "    vag_railway_top = vag_railway_pivot_table.sort_values(by='All', ascending=False).head(count+1)\r\n",
    "    vag_railway_top = vag_railway_top.drop(index=['All'])\r\n",
    "    return vag_railway_top"
   ],
   "outputs": [],
   "metadata": {}
  },
  {
   "cell_type": "code",
   "execution_count": 11,
   "source": [
    "skv_vag_top = vag_top(departure_railway='СКВ', count=30)\r\n",
    "okt_vag_top = vag_top(departure_railway='ОКТ', count=30)\r\n",
    "yur_vag_top = vag_top(departure_railway='ЮУР', count=30)"
   ],
   "outputs": [],
   "metadata": {}
  },
  {
   "cell_type": "markdown",
   "source": [
    "**Анализ по грузополучателям**"
   ],
   "metadata": {}
  },
  {
   "cell_type": "code",
   "execution_count": 12,
   "source": [
    "# Топ грузополучателей по дороге назначения\r\n",
    "def consignees_top(destinations_railway, count: int = 30):\r\n",
    "    df_railway = df[df['Дорога назначения'] == destinations_railway]\r\n",
    "    consignee_railway_pivot_table = df_railway.pivot_table(\r\n",
    "        columns=['Дорога отправления'], \r\n",
    "        index='Грузополучатель наим по ЕГРПО', \r\n",
    "        values='Объем перевозок тонн', \r\n",
    "        aggfunc=np.sum, \r\n",
    "        fill_value=0, \r\n",
    "        margins=True)\r\n",
    "    consignee_railway_top = consignee_railway_pivot_table.sort_values(by='All', ascending=False).head(count+1)\r\n",
    "    consignee_railway_top = consignee_railway_top.drop(index=['All'])\r\n",
    "    consignee_railway_top = consignee_railway_top.loc[:, (consignee_railway_top != 0).any(axis=0)]\r\n",
    "    return consignee_railway_top"
   ],
   "outputs": [],
   "metadata": {}
  },
  {
   "cell_type": "code",
   "execution_count": 13,
   "source": [
    "msk_consignees_top = consignees_top(destinations_railway='МСК', count=30)\r\n",
    "gor_consignees_top = consignees_top(destinations_railway='ГОР', count=30)"
   ],
   "outputs": [],
   "metadata": {}
  },
  {
   "cell_type": "markdown",
   "source": [
    "**Запись в файл**"
   ],
   "metadata": {}
  },
  {
   "cell_type": "code",
   "execution_count": 22,
   "source": [
    "# Генерация имени конечного файла\r\n",
    "date_min = df['Дата оформления'].min().date().strftime(\"%d.%m.%Y\")\r\n",
    "date_max = df['Дата оформления'].max().date().strftime(\"%d.%m.%Y\")\r\n",
    "name_file_output = f'Перевозки + анализ {date_min}-{date_max}'"
   ],
   "outputs": [],
   "metadata": {}
  },
  {
   "cell_type": "code",
   "execution_count": 23,
   "source": [
    "# Запись в файл\r\n",
    "writer = pd.ExcelWriter(f'{name_file_output}.xlsx')\r\n",
    "df_new.to_excel(writer, 'rzd', index=False)\r\n",
    "vag_pivot_table.to_excel(writer, 'vag')\r\n",
    "skv_vag_top.to_excel(writer, 'skv_vag')\r\n",
    "okt_vag_top.to_excel(writer, 'okt_vag')\r\n",
    "msk_consignees_top.to_excel(writer, 'to_msk')\r\n",
    "gor_consignees_top.to_excel(writer, 'to_gor')\r\n",
    "writer.save()"
   ],
   "outputs": [],
   "metadata": {}
  },
  {
   "cell_type": "code",
   "execution_count": null,
   "source": [],
   "outputs": [],
   "metadata": {}
  }
 ],
 "metadata": {
  "kernelspec": {
   "display_name": "Python 3",
   "language": "python",
   "name": "python3"
  },
  "language_info": {
   "codemirror_mode": {
    "name": "ipython",
    "version": 3
   },
   "file_extension": ".py",
   "mimetype": "text/x-python",
   "name": "python",
   "nbconvert_exporter": "python",
   "pygments_lexer": "ipython3",
   "version": "3.8.8"
  }
 },
 "nbformat": 4,
 "nbformat_minor": 5
}