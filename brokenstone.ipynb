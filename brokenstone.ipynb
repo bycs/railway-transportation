{
 "cells": [
  {
   "cell_type": "markdown",
   "id": "4213f868",
   "metadata": {},
   "source": [
    "# Анализ  перевозок по файлам из http://brokenstone.ru/"
   ]
  },
  {
   "cell_type": "code",
   "execution_count": 1,
   "id": "73358c04",
   "metadata": {
    "scrolled": true
   },
   "outputs": [],
   "source": [
    "# Импорт необходимых библиотек\n",
    "import numpy as np\n",
    "import pandas as pd"
   ]
  },
  {
   "cell_type": "code",
   "execution_count": 2,
   "id": "e34dc0fd",
   "metadata": {},
   "outputs": [],
   "source": [
    "# Загрузка файла\n",
    "file = \"br.xlsx\"\n",
    "df = pd.read_excel(file)"
   ]
  },
  {
   "cell_type": "code",
   "execution_count": 3,
   "id": "a4d7b535",
   "metadata": {},
   "outputs": [],
   "source": [
    "# Список дорог\n",
    "railways = (\n",
    "    'ВСБ', 'ГОР', 'ДВС', 'ЖДЯ', 'ЗАБ', 'ЗСБ', \n",
    "    'КБШ', 'КЛГ', 'КРС', 'МСК', 'ОКТ', 'ПРВ', \n",
    "    'СВР', 'СЕВ', 'СКВ', 'ЮВС', 'ЮУР')"
   ]
  },
  {
   "cell_type": "code",
   "execution_count": 4,
   "id": "84ba4b78",
   "metadata": {},
   "outputs": [],
   "source": [
    "# Исключения\n",
    "place_of_calculation = [\"Перевозки ОАО РЖД\"]\n",
    "\n",
    "# Фильтры\n",
    "type_of_transportation = [\"Внутр. перевозки\", \"внутренние\"]\n",
    "cargo_group = [\"Минерально-строит.\"]\n",
    "cargo_OKVED = [\"Разработка карьеров\"]\n",
    "type_of_van = [\"Полувагоны\", \"Полувагоны ост.\"]\n",
    "departure_railways = [\"СКВ\",\"ОКТ\",\"ЮУР\"]"
   ]
  },
  {
   "cell_type": "code",
   "execution_count": 5,
   "id": "ac42cf5f",
   "metadata": {},
   "outputs": [],
   "source": [
    "# Костыли из-за разных версий файлов\n",
    "df[\"Груз\"] = df[\"Груз\"].fillna(\"\")\n",
    "df[\"Субъект РФ отправления\"] = df[\"Область отправления\"].fillna(\"\")\n",
    "df[\"Субъект РФ назначения\"] = df[\"Область назначения\"].fillna(\"\")\n",
    "df[\"Расстояние\"] = df[\"Вагоно-км\"].fillna(0)\n",
    "df[\"Провозная плата\"] = df[\"Тариф\"].fillna(0)\n",
    "\n",
    "df['Объем перевозок тонн'].replace(regex=True, inplace=True, to_replace=r',', value=r'.')\n",
    "df['Объем перевозок тонн'] = df['Объем перевозок тонн'].astype('float32')\n",
    "df['Объем перевозок тонн'].round(decimals=2)\n",
    "\n",
    "df['Оператор'] = np.where(df['Оператор'] == 'вне аренды', df['Собственник вагона по ЕГРПО'], df['Оператор'])\n",
    "df['Оператор'] = np.where(df['Оператор'] == '0', df['Собственник вагона по ЕГРПО'], df['Оператор'])\n",
    "df['Оператор'] = np.where(df['Оператор'] == '10', df['Собственник вагона по ЕГРПО'], df['Оператор'])\n",
    "df['Оператор'] = np.where(df['Оператор'] == '4', df['Собственник вагона по ЕГРПО'], df['Оператор'])\n",
    "df['Оператор'] = np.where(df['Оператор'] == '#', df['Собственник вагона по ЕГРПО'], df['Оператор'])\n",
    "df['Оператор'] = np.where(df['Оператор'] == 'неизвестен', df['Собственник вагона по ЕГРПО'], df['Оператор'])\n",
    "\n",
    "df['Грузополучатель ОКПО'].replace(regex=True, inplace=True, to_replace=r\"'\", value=r'')\n",
    "df['Грузополучатель наим по ЕГРПО'] = np.where(df['Грузополучатель наим по ЕГРПО'].isna(), df['Грузополучатель ОКПО'], df['Грузополучатель наим по ЕГРПО'])"
   ]
  },
  {
   "cell_type": "markdown",
   "id": "ac108673",
   "metadata": {},
   "source": [
    "**Предобработка данных**"
   ]
  },
  {
   "cell_type": "code",
   "execution_count": 6,
   "id": "4a46f91b",
   "metadata": {},
   "outputs": [],
   "source": [
    "# Применение фильтров и исключений\n",
    "df = df.loc[df['Вид перевозки'].isin(type_of_transportation)]\n",
    "#df = df.loc[df['Группа груза'].isin(cargo_group)]\n",
    "#df = df.loc[df['Груз ОКВЭД'].isin(cargo_OKVED)]\n",
    "df = df.loc[df['Род вагона'].isin(type_of_van)]\n",
    "#df = df.loc[~df['Признак места расчета'].isin(place_of_calculation)]"
   ]
  },
  {
   "cell_type": "code",
   "execution_count": 7,
   "id": "08b2034f",
   "metadata": {},
   "outputs": [],
   "source": [
    "# Преобразование наименований организаций\n",
    "def clearing_organizational_form(dataframe):\n",
    "    dataframe.replace(regex=True, inplace=True, to_replace=r'АО \"ДВ ТРАНСПОРТНАЯ ГРУППА\"   АО \"ДВТГ\"', value=r'ДВТГ')\n",
    "    dataframe.replace(regex=True, inplace=True, to_replace=r'^И.П.', value=r'ИП')\n",
    "    dataframe.replace(regex=True, inplace=True, to_replace=r'  ', value=r' ')\n",
    "    dataframe.replace(regex=True, inplace=True, to_replace=r'(?i)Общество с ограниченной ответственностью', value=r'ООО')\n",
    "    dataframe.replace(regex=True, inplace=True, to_replace=r'(?i)^Акционерное общество', value=r'АО')\n",
    "    dataframe.replace(regex=True, inplace=True, to_replace=r'(?i)Государственное унитарное предприятие', value=r'ГУП')\n",
    "    dataframe.replace(regex=True, inplace=True, to_replace=r'(?i)Открытое акционерное общество', value=r'ОАО')\n",
    "    dataframe.replace(regex=True, inplace=True, to_replace=r'(?i)Закрытое акционерное общество', value=r'ЗАО')\n",
    "    dataframe.replace(regex=True, inplace=True, to_replace=r'(?i)Публичное акционерное общество', value=r'ПАО')\n",
    "    dataframe.replace(regex=True, inplace=True, \n",
    "                      to_replace=r'(?i)(^OOO |^АО |^ООО |^ОАО |^ЗАО |^ОАО|^ООО|^ПАО | ООО$| АО$| ЗАО$| ОАО$| ООО$| ПАО$|[^\\w\\d\\s+-.])', \n",
    "                      value=r'')\n",
    "    dataframe.replace(regex=True, inplace=True, to_replace=r'(?i)ФЕДЕРАЛЬНАЯ ГРУЗОВАЯ КОМПАНИЯ', value=r'ФГК')\n",
    "    dataframe.replace(regex=True, inplace=True, to_replace=r'(?i)Новая перевозочная компания', value=r'НПК')\n",
    "    dataframe.replace(regex=True, inplace=True, to_replace=r'(?i)Холдинговая компания', value=r'ХК')\n",
    "    dataframe.replace(regex=True, inplace=True, to_replace=r'ЭЙ-СИ-РЕЙЛ', value=r'Эй-Си-Рейл')\n",
    "    dataframe.replace(regex=True, inplace=True, to_replace=r'Кузбасстрансцемент', value=r'КузбассТрансЦемент')\n",
    "    dataframe.replace(regex=True, inplace=True, to_replace=r'Новотранс ХК', value=r'ХК Новотранс')\n",
    "    dataframe.replace(regex=True, inplace=True, to_replace=r'ХК НОВОТРАНС', value=r'ХК Новотранс')\n",
    "    dataframe.replace(regex=True, inplace=True, to_replace=r'^\\s', value=r'')\n",
    "\n",
    "clearing_organizational_form(df['Собственник вагона по ЕГРПО'])\n",
    "clearing_organizational_form(df['Арендатор вагона по ГВЦ'])\n",
    "clearing_organizational_form(df['Оператор'])\n",
    "clearing_organizational_form(df['Плательщик жд тарифа'])\n",
    "clearing_organizational_form(df['Грузоотправитель наим по ЕГРПО'])\n",
    "clearing_organizational_form(df['Грузополучатель наим по ЕГРПО'])"
   ]
  },
  {
   "cell_type": "code",
   "execution_count": 8,
   "id": "c5bba4d7",
   "metadata": {},
   "outputs": [],
   "source": [
    "# Владелец вагона (арендатор или собственник)\n",
    "#df['Арендатор вагона по ГВЦ'].apply(lambda x: x.lower())\n",
    "#df['Владелец вагона'] = np.where(df['Арендатор вагона по ГВЦ'] == 'вне аренды', df['Собственник вагона по ЕГРПО'], df['Арендатор вагона по ГВЦ'])"
   ]
  },
  {
   "cell_type": "code",
   "execution_count": 9,
   "id": "7d1048c8",
   "metadata": {},
   "outputs": [],
   "source": [
    "# Столбцы, которые необходимо оставить\n",
    "df_new = df[[\n",
    "    'Номер документа', 'Дата отправления', 'Груз', 'Дорога отправления',\n",
    "    'Субъект РФ отправления', 'Станция отправления РФ', 'Грузоотправитель наим по ЕГРПО',\n",
    "    'Дорога назначения', 'Субъект РФ назначения', 'Станция назначения РФ', 'Грузополучатель наим по ЕГРПО',\n",
    "    'Грузополучатель ОКПО', 'Плательщик жд тарифа', 'Расстояние', 'Объем перевозок тонн', 'Провозная плата', \n",
    "    'Оператор', 'Номер вагона']].reset_index(drop=True)\n",
    "df_new = df_new.loc[df_new['Дорога отправления'].isin(departure_railways)]"
   ]
  },
  {
   "cell_type": "markdown",
   "id": "6db281cb",
   "metadata": {},
   "source": [
    "**Анализ по собственникам вагонов**"
   ]
  },
  {
   "cell_type": "code",
   "execution_count": 10,
   "id": "cedb61c7",
   "metadata": {},
   "outputs": [],
   "source": [
    "# Сводная таблица по собственникам вагонов\n",
    "vag_pivot_table = df.pivot_table(\n",
    "    columns=['Дорога отправления','Дорога назначения'], \n",
    "    values='Номер документа', \n",
    "    aggfunc=len, \n",
    "    index='Оператор', \n",
    "    fill_value=0)"
   ]
  },
  {
   "cell_type": "code",
   "execution_count": 11,
   "id": "ee4cbee0",
   "metadata": {},
   "outputs": [],
   "source": [
    "# Топ собственников вагонов по дороге отправления\n",
    "def vag_top(departure_railway, count: int = 30):\n",
    "    df_railway = df[df['Дорога отправления'] == departure_railway]\n",
    "    vag_railway_pivot_table = df_railway.pivot_table(\n",
    "        columns=['Дорога назначения'], \n",
    "        index='Оператор', \n",
    "        values='Объем перевозок тонн', \n",
    "        aggfunc=len, \n",
    "        fill_value=0, \n",
    "        margins=True)\n",
    "    vag_railway_top = vag_railway_pivot_table.sort_values(by='All', ascending=False).head(count+1)\n",
    "    vag_railway_top = vag_railway_top.drop(index=['All'])\n",
    "    return vag_railway_top"
   ]
  },
  {
   "cell_type": "code",
   "execution_count": 12,
   "id": "c4fac6ec",
   "metadata": {},
   "outputs": [],
   "source": [
    "skv_vag_top = vag_top(departure_railway='СКВ', count=30)\n",
    "okt_vag_top = vag_top(departure_railway='ОКТ', count=30)\n",
    "yur_vag_top = vag_top(departure_railway='ЮУР', count=30)"
   ]
  },
  {
   "cell_type": "markdown",
   "id": "d8127e16",
   "metadata": {},
   "source": [
    "**Анализ по грузополучателям**"
   ]
  },
  {
   "cell_type": "code",
   "execution_count": 13,
   "id": "9b9f97d4",
   "metadata": {},
   "outputs": [],
   "source": [
    "# Топ грузополучателей по дороге назначения\n",
    "def consignees_top(destinations_railway, count: int = 30):\n",
    "    df_railway = df[df['Дорога назначения'] == destinations_railway]\n",
    "    consignee_railway_pivot_table = df_railway.pivot_table(\n",
    "        columns=['Дорога отправления'], \n",
    "        index='Грузополучатель наим по ЕГРПО', \n",
    "        values='Объем перевозок тонн', \n",
    "        aggfunc=np.sum, \n",
    "        fill_value=0, \n",
    "        margins=True)\n",
    "    consignee_railway_top = consignee_railway_pivot_table.sort_values(by='All', ascending=False).head(count+1)\n",
    "    consignee_railway_top = consignee_railway_top.drop(index=['All'])\n",
    "    consignee_railway_top = consignee_railway_top.loc[:, (consignee_railway_top != 0).any(axis=0)]\n",
    "    return consignee_railway_top"
   ]
  },
  {
   "cell_type": "code",
   "execution_count": 14,
   "id": "5480fd7b",
   "metadata": {},
   "outputs": [],
   "source": [
    "msk_consignees_top = consignees_top(destinations_railway='МСК', count=30)\n",
    "gor_consignees_top = consignees_top(destinations_railway='ГОР', count=30)"
   ]
  },
  {
   "cell_type": "markdown",
   "id": "09e6f6f3",
   "metadata": {},
   "source": [
    "**Запись в файл**"
   ]
  },
  {
   "cell_type": "code",
   "execution_count": 15,
   "id": "9db4f992",
   "metadata": {},
   "outputs": [
    {
     "name": "stdout",
     "output_type": "stream",
     "text": [
      "01.01.2022 31.01.2022\n"
     ]
    }
   ],
   "source": [
    "# Генерация имени конечного файла\n",
    "date_min = df['Дата отправления'].min()\n",
    "date_max = df['Дата отправления'].max()\n",
    "name_file_output = f'Перевозки + анализ {date_min}-{date_max}'\n",
    "print(date_min, date_max)"
   ]
  },
  {
   "cell_type": "code",
   "execution_count": 16,
   "id": "031b6aae",
   "metadata": {},
   "outputs": [],
   "source": [
    "# Запись в файл\n",
    "writer = pd.ExcelWriter(f'{name_file_output}.xlsx')\n",
    "df_new.to_excel(writer, 'rzd', index=False)\n",
    "vag_pivot_table.to_excel(writer, 'vag')\n",
    "skv_vag_top.to_excel(writer, 'skv_vag')\n",
    "okt_vag_top.to_excel(writer, 'okt_vag')\n",
    "msk_consignees_top.to_excel(writer, 'to_msk')\n",
    "gor_consignees_top.to_excel(writer, 'to_gor')\n",
    "writer.save()"
   ]
  },
  {
   "cell_type": "code",
   "execution_count": null,
   "id": "3f2b5ec0",
   "metadata": {},
   "outputs": [],
   "source": []
  }
 ],
 "metadata": {
  "kernelspec": {
   "display_name": "Python 3",
   "language": "python",
   "name": "python3"
  },
  "language_info": {
   "codemirror_mode": {
    "name": "ipython",
    "version": 3
   },
   "file_extension": ".py",
   "mimetype": "text/x-python",
   "name": "python",
   "nbconvert_exporter": "python",
   "pygments_lexer": "ipython3",
   "version": "3.8.8"
  }
 },
 "nbformat": 4,
 "nbformat_minor": 5
}
